{
 "cells": [
  {
   "cell_type": "code",
   "execution_count": 3,
   "id": "d174f791-f8aa-4bfd-a9a6-2aa905daedd9",
   "metadata": {},
   "outputs": [
    {
     "name": "stdout",
     "output_type": "stream",
     "text": [
      "[{'label': 'British_Shorthair', 'score': 0.5078508853912354}, {'label': 'Russian_Blue', 'score': 0.2938497066497803}, {'label': 'Abyssinian', 'score': 0.0364714190363884}, {'label': 'Sphynx', 'score': 0.01846783235669136}, {'label': 'Bombay', 'score': 0.017563460394740105}]\n"
     ]
    }
   ],
   "source": [
    "import timm\n",
    "import torch\n",
    "from PIL import Image\n",
    "from timm.data import resolve_data_config\n",
    "from timm.data.transforms_factory import create_transform\n",
    "\n",
    "# Load from Hub 🔥\n",
    "model = timm.create_model(\n",
    "    'hf-hub:nateraw/resnet50-oxford-iiit-pet',\n",
    "    pretrained=True\n",
    ")\n",
    "\n",
    "# Set model to eval mode for inference\n",
    "model.eval()\n",
    "\n",
    "# Create Transform\n",
    "transform = create_transform(**resolve_data_config(model.pretrained_cfg, model=model))\n",
    "\n",
    "# Get the labels from the model config\n",
    "labels = model.pretrained_cfg['label_names']\n",
    "top_k = min(len(labels), 5)\n",
    "\n",
    "# Use your own image file here...\n",
    "image = Image.open('assets/koshka.jpg').convert('RGB')\n",
    "\n",
    "# Process PIL image with transforms and add a batch dimension\n",
    "x = transform(image).unsqueeze(0)\n",
    "\n",
    "# Pass inputs to model forward function to get outputs\n",
    "out = model(x)\n",
    "\n",
    "# Apply softmax to get predicted probabilities for each class\n",
    "probabilities = torch.nn.functional.softmax(out[0], dim=0)\n",
    "\n",
    "# Grab the values and indices of top 5 predicted classes\n",
    "values, indices = torch.topk(probabilities, top_k)\n",
    "\n",
    "# Prepare a nice dict of top k predictions\n",
    "predictions = [\n",
    "    {\"label\": labels[i], \"score\": v.item()}\n",
    "    for i, v in zip(indices, values)\n",
    "]\n",
    "print(predictions)"
   ]
  },
  {
   "cell_type": "code",
   "execution_count": null,
   "id": "f1a7ac12-8e43-4a1a-90b7-768bf7da8d18",
   "metadata": {},
   "outputs": [],
   "source": []
  }
 ],
 "metadata": {
  "kernelspec": {
   "display_name": "Python 3 (ipykernel)",
   "language": "python",
   "name": "python3"
  },
  "language_info": {
   "codemirror_mode": {
    "name": "ipython",
    "version": 3
   },
   "file_extension": ".py",
   "mimetype": "text/x-python",
   "name": "python",
   "nbconvert_exporter": "python",
   "pygments_lexer": "ipython3",
   "version": "3.11.4"
  }
 },
 "nbformat": 4,
 "nbformat_minor": 5
}
